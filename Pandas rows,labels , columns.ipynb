{
 "cells": [
  {
   "cell_type": "code",
   "execution_count": 1,
   "id": "8cc9859e",
   "metadata": {},
   "outputs": [],
   "source": [
    "import numpy as np\n",
    "import pandas as pd\n",
    "\n",
    "##after entering a function we can see guide for that function"
   ]
  },
  {
   "cell_type": "code",
   "execution_count": 4,
   "id": "6709f2db",
   "metadata": {},
   "outputs": [
    {
     "data": {
      "text/plain": [
       "0      5\n",
       "1      6\n",
       "2     23\n",
       "3     12\n",
       "4      5\n",
       "5    234\n",
       "dtype: int64"
      ]
     },
     "execution_count": 4,
     "metadata": {},
     "output_type": "execute_result"
    }
   ],
   "source": [
    "#python list to series\n",
    "my_series = [5,6,23,12,5,234]\n",
    "var = pd.Series(my_series)\n",
    "var"
   ]
  },
  {
   "cell_type": "code",
   "execution_count": 16,
   "id": "23f2e644",
   "metadata": {},
   "outputs": [
    {
     "data": {
      "text/plain": [
       "5"
      ]
     },
     "execution_count": 16,
     "metadata": {},
     "output_type": "execute_result"
    }
   ],
   "source": [
    "# row numbers\n",
    "var[0]\n",
    "\n"
   ]
  },
  {
   "cell_type": "code",
   "execution_count": 17,
   "id": "0ae91516",
   "metadata": {},
   "outputs": [
    {
     "data": {
      "text/plain": [
       "2    23\n",
       "3    12\n",
       "dtype: int64"
      ]
     },
     "execution_count": 17,
     "metadata": {},
     "output_type": "execute_result"
    }
   ],
   "source": [
    "var[2:4]"
   ]
  },
  {
   "cell_type": "code",
   "execution_count": 19,
   "id": "68c7bc6c",
   "metadata": {},
   "outputs": [
    {
     "data": {
      "text/plain": [
       "A      5\n",
       "B      6\n",
       "C     23\n",
       "D     12\n",
       "E      5\n",
       "F    234\n",
       "dtype: int64"
      ]
     },
     "execution_count": 19,
     "metadata": {},
     "output_type": "execute_result"
    }
   ],
   "source": [
    "\n",
    "#adding labels using i\n",
    "index = ['A','B','C','D','E','F']\n",
    "var2 = pd.Series(my_series, index)\n",
    "var2"
   ]
  },
  {
   "cell_type": "code",
   "execution_count": 21,
   "id": "be3c7b16",
   "metadata": {},
   "outputs": [
    {
     "data": {
      "text/plain": [
       "A      5\n",
       "B      6\n",
       "C     23\n",
       "D     12\n",
       "E      5\n",
       "F    234\n",
       "dtype: int64"
      ]
     },
     "execution_count": 21,
     "metadata": {},
     "output_type": "execute_result"
    }
   ],
   "source": [
    "#adding labels using \n",
    "index = ['A','B','C','D','E','F','G']\n",
    "var3 = pd.Series(my_series,['A','B','C','D','E','F'])\n",
    "var3"
   ]
  },
  {
   "cell_type": "code",
   "execution_count": 22,
   "id": "c022d5da",
   "metadata": {},
   "outputs": [
    {
     "data": {
      "text/plain": [
       "A      5\n",
       "B      6\n",
       "C     23\n",
       "D     12\n",
       "E      5\n",
       "F    234\n",
       "dtype: int64"
      ]
     },
     "execution_count": 22,
     "metadata": {},
     "output_type": "execute_result"
    }
   ],
   "source": [
    "#adding labels using index elements\n",
    "my_index = ['A','B','C','D','E','F']\n",
    "var2 = pd.Series(my_series, index=my_index)\n",
    "var2"
   ]
  },
  {
   "cell_type": "code",
   "execution_count": 24,
   "id": "08afb16e",
   "metadata": {},
   "outputs": [
    {
     "data": {
      "text/plain": [
       "A     5\n",
       "B     6\n",
       "C    23\n",
       "D    12\n",
       "E     5\n",
       "dtype: int64"
      ]
     },
     "execution_count": 24,
     "metadata": {},
     "output_type": "execute_result"
    }
   ],
   "source": [
    "var2['A':'E']"
   ]
  },
  {
   "cell_type": "code",
   "execution_count": 26,
   "id": "ca608dbe",
   "metadata": {},
   "outputs": [
    {
     "data": {
      "text/plain": [
       "23"
      ]
     },
     "execution_count": 26,
     "metadata": {},
     "output_type": "execute_result"
    }
   ],
   "source": [
    "var2['C']"
   ]
  },
  {
   "cell_type": "code",
   "execution_count": 30,
   "id": "624eff98",
   "metadata": {},
   "outputs": [
    {
     "data": {
      "text/plain": [
       "{'one': 1, 'two': 2}"
      ]
     },
     "execution_count": 30,
     "metadata": {},
     "output_type": "execute_result"
    }
   ],
   "source": [
    "#dictionary\n",
    "y = {}\n",
    "y['one'] = 1\n",
    "y['two'] = 2\n",
    "y\n"
   ]
  },
  {
   "cell_type": "code",
   "execution_count": null,
   "id": "5ae16675",
   "metadata": {},
   "outputs": [],
   "source": []
  },
  {
   "cell_type": "code",
   "execution_count": 29,
   "id": "a5cd98d9",
   "metadata": {},
   "outputs": [
    {
     "data": {
      "text/plain": [
       "{'one': 1, 'two': 'dos'}"
      ]
     },
     "execution_count": 29,
     "metadata": {},
     "output_type": "execute_result"
    }
   ],
   "source": [
    "y['two'] = 'dos'\n",
    "y"
   ]
  },
  {
   "cell_type": "code",
   "execution_count": 31,
   "id": "d4ffe176",
   "metadata": {},
   "outputs": [
    {
     "data": {
      "text/plain": [
       "{'one': 1}"
      ]
     },
     "execution_count": 31,
     "metadata": {},
     "output_type": "execute_result"
    }
   ],
   "source": [
    "del y['two']\n",
    "y"
   ]
  },
  {
   "cell_type": "code",
   "execution_count": null,
   "id": "5f1d1110",
   "metadata": {},
   "outputs": [],
   "source": []
  }
 ],
 "metadata": {
  "kernelspec": {
   "display_name": "Python 3 (ipykernel)",
   "language": "python",
   "name": "python3"
  },
  "language_info": {
   "codemirror_mode": {
    "name": "ipython",
    "version": 3
   },
   "file_extension": ".py",
   "mimetype": "text/x-python",
   "name": "python",
   "nbconvert_exporter": "python",
   "pygments_lexer": "ipython3",
   "version": "3.10.6"
  }
 },
 "nbformat": 4,
 "nbformat_minor": 5
}
